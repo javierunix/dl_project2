{
 "cells": [
  {
   "cell_type": "markdown",
   "metadata": {
    "collapsed": true,
    "deletable": true,
    "editable": true
   },
   "source": [
    "# Image Classification\n",
    "In this project, you'll classify images from the [CIFAR-10 dataset](https://www.cs.toronto.edu/~kriz/cifar.html).  The dataset consists of airplanes, dogs, cats, and other objects. You'll preprocess the images, then train a convolutional neural network on all the samples. The images need to be normalized and the labels need to be one-hot encoded.  You'll get to apply what you learned and build a convolutional, max pooling, dropout, and fully connected layers.  At the end, you'll get to see your neural network's predictions on the sample images.\n",
    "## Get the Data\n",
    "Run the following cell to download the [CIFAR-10 dataset for python](https://www.cs.toronto.edu/~kriz/cifar-10-python.tar.gz)."
   ]
  },
  {
   "cell_type": "code",
   "execution_count": 17,
   "metadata": {
    "collapsed": false,
    "deletable": true,
    "editable": true
   },
   "outputs": [
    {
     "name": "stdout",
     "output_type": "stream",
     "text": [
      "All files found!\n"
     ]
    }
   ],
   "source": [
    "\"\"\"\n",
    "DON'T MODIFY ANYTHING IN THIS CELL THAT IS BELOW THIS LINE\n",
    "\"\"\"\n",
    "from urllib.request import urlretrieve\n",
    "from os.path import isfile, isdir\n",
    "from tqdm import tqdm\n",
    "import problem_unittests as tests\n",
    "import tarfile\n",
    "\n",
    "cifar10_dataset_folder_path = 'cifar-10-batches-py'\n",
    "\n",
    "class DLProgress(tqdm):\n",
    "    last_block = 0\n",
    "\n",
    "    def hook(self, block_num=1, block_size=1, total_size=None):\n",
    "        self.total = total_size\n",
    "        self.update((block_num - self.last_block) * block_size)\n",
    "        self.last_block = block_num\n",
    "\n",
    "if not isfile('cifar-10-python.tar.gz'):\n",
    "    with DLProgress(unit='B', unit_scale=True, miniters=1, desc='CIFAR-10 Dataset') as pbar:\n",
    "        urlretrieve(\n",
    "            'https://www.cs.toronto.edu/~kriz/cifar-10-python.tar.gz',\n",
    "            'cifar-10-python.tar.gz',\n",
    "            pbar.hook)\n",
    "\n",
    "if not isdir(cifar10_dataset_folder_path):\n",
    "    with tarfile.open('cifar-10-python.tar.gz') as tar:\n",
    "        tar.extractall()\n",
    "        tar.close()\n",
    "\n",
    "\n",
    "tests.test_folder_path(cifar10_dataset_folder_path)"
   ]
  },
  {
   "cell_type": "markdown",
   "metadata": {
    "deletable": true,
    "editable": true
   },
   "source": [
    "## Explore the Data\n",
    "The dataset is broken into batches to prevent your machine from running out of memory.  The CIFAR-10 dataset consists of 5 batches, named `data_batch_1`, `data_batch_2`, etc.. Each batch contains the labels and images that are one of the following:\n",
    "* airplane\n",
    "* automobile\n",
    "* bird\n",
    "* cat\n",
    "* deer\n",
    "* dog\n",
    "* frog\n",
    "* horse\n",
    "* ship\n",
    "* truck\n",
    "\n",
    "Understanding a dataset is part of making predictions on the data.  Play around with the code cell below by changing the `batch_id` and `sample_id`. The `batch_id` is the id for a batch (1-5). The `sample_id` is the id for a image and label pair in the batch.\n",
    "\n",
    "Ask yourself \"What are all possible labels?\", \"What is the range of values for the image data?\", \"Are the labels in order or random?\".  Answers to questions like these will help you preprocess the data and end up with better predictions."
   ]
  },
  {
   "cell_type": "code",
   "execution_count": 18,
   "metadata": {
    "collapsed": false,
    "deletable": true,
    "editable": true
   },
   "outputs": [
    {
     "name": "stdout",
     "output_type": "stream",
     "text": [
      "\n",
      "Stats of batch 1:\n",
      "Samples: 10000\n",
      "Label Counts: {0: 1005, 1: 974, 2: 1032, 3: 1016, 4: 999, 5: 937, 6: 1030, 7: 1001, 8: 1025, 9: 981}\n",
      "First 20 Labels: [6, 9, 9, 4, 1, 1, 2, 7, 8, 3, 4, 7, 7, 2, 9, 9, 9, 3, 2, 6]\n",
      "\n",
      "Example of Image 5:\n",
      "Image - Min Value: 0 Max Value: 252\n",
      "Image - Shape: (32, 32, 3)\n",
      "Label - Label Id: 1 Name: automobile\n"
     ]
    },
    {
     "data": {
      "image/png": "[encoded data removed]",
      "text/plain": [
       "<matplotlib.figure.Figure at 0x7f5d6c8a1c88>"
      ]
     },
     "metadata": {
      "image/png": {
       "height": 250,
       "width": 253
      }
     },
     "output_type": "display_data"
    }
   ],
   "source": [
    "%matplotlib inline\n",
    "%config InlineBackend.figure_format = 'retina'\n",
    "\n",
    "import helper\n",
    "import numpy as np\n",
    "\n",
    "# Explore the dataset\n",
    "batch_id = 1\n",
    "sample_id = 5\n",
    "helper.display_stats(cifar10_dataset_folder_path, batch_id, sample_id)"
   ]
  },
  {
   "cell_type": "markdown",
   "metadata": {
    "deletable": true,
    "editable": true
   },
   "source": [
    "## Implement Preprocess Functions\n",
    "### Normalize\n",
    "In the cell below, implement the `normalize` function to take in image data, `x`, and return it as a normalized Numpy array. The values should be in the range of 0 to 1, inclusive.  The return object should be the same shape as `x`."
   ]
  },
  {
   "cell_type": "code",
   "execution_count": 19,
   "metadata": {
    "collapsed": false,
    "deletable": true,
    "editable": true
   },
   "outputs": [
    {
     "name": "stdout",
     "output_type": "stream",
     "text": [
      "Tests Passed\n"
     ]
    }
   ],
   "source": [
    "def normalize(x):\n",
    "    \"\"\"\n",
    "    Normalize a list of sample image data in the range of 0 to 1\n",
    "    : x: List of image data.  The image shape is (32, 32, 3)\n",
    "    : return: Numpy array of normalize data\n",
    "    \"\"\"\n",
    "    # TODO: Implement Function\n",
    "    return np.array(x / 255.0)\n",
    "\n",
    "\n",
    "\"\"\"\n",
    "DON'T MODIFY ANYTHING IN THIS CELL THAT IS BELOW THIS LINE\n",
    "\"\"\"\n",
    "tests.test_normalize(normalize)"
   ]
  },
  {
   "cell_type": "markdown",
   "metadata": {
    "deletable": true,
    "editable": true
   },
   "source": [
    "### One-hot encode\n",
    "Just like the previous code cell, you'll be implementing a function for preprocessing.  This time, you'll implement the `one_hot_encode` function. The input, `x`, are a list of labels.  Implement the function to return the list of labels as One-Hot encoded Numpy array.  The possible values for labels are 0 to 9. The one-hot encoding function should return the same encoding for each value between each call to `one_hot_encode`.  Make sure to save the map of encodings outside the function.\n",
    "\n",
    "Hint: Don't reinvent the wheel."
   ]
  },
  {
   "cell_type": "code",
   "execution_count": 20,
   "metadata": {
    "collapsed": false,
    "deletable": true,
    "editable": true
   },
   "outputs": [
    {
     "name": "stdout",
     "output_type": "stream",
     "text": [
      "Tests Passed\n"
     ]
    }
   ],
   "source": [
    "import sklearn.preprocessing\n",
    "label_binarizer = sklearn.preprocessing.LabelBinarizer()\n",
    "label_binarizer.fit(range(10))\n",
    "def one_hot_encode(x):\n",
    "    \"\"\"\n",
    "    One hot encode a list of sample labels. Return a one-hot encoded vector for each label.\n",
    "    : x: List of sample Labels\n",
    "    : return: Numpy array of one-hot encoded labels\n",
    "    \"\"\"\n",
    "    # TODO: Implement Function\n",
    "    return label_binarizer.transform(x)\n",
    "    #return None\n",
    "\n",
    "\n",
    "\"\"\"\n",
    "DON'T MODIFY ANYTHING IN THIS CELL THAT IS BELOW THIS LINE\n",
    "\"\"\"\n",
    "tests.test_one_hot_encode(one_hot_encode)"
   ]
  },
  {
   "cell_type": "markdown",
   "metadata": {
    "deletable": true,
    "editable": true
   },
   "source": [
    "### Randomize Data\n",
    "As you saw from exploring the data above, the order of the samples are randomized.  It doesn't hurt to randomize it again, but you don't need to for this dataset."
   ]
  },
  {
   "cell_type": "markdown",
   "metadata": {
    "deletable": true,
    "editable": true
   },
   "source": [
    "## Preprocess all the data and save it\n",
    "Running the code cell below will preprocess all the CIFAR-10 data and save it to file. The code below also uses 10% of the training data for validation."
   ]
  },
  {
   "cell_type": "code",
   "execution_count": 21,
   "metadata": {
    "collapsed": false,
    "deletable": true,
    "editable": true
   },
   "outputs": [],
   "source": [
    "\"\"\"\n",
    "DON'T MODIFY ANYTHING IN THIS CELL\n",
    "\"\"\"\n",
    "# Preprocess Training, Validation, and Testing Data\n",
    "helper.preprocess_and_save_data(cifar10_dataset_folder_path, normalize, one_hot_encode)"
   ]
  },
  {
   "cell_type": "markdown",
   "metadata": {
    "deletable": true,
    "editable": true
   },
   "source": [
    "# Check Point\n",
    "This is your first checkpoint.  If you ever decide to come back to this notebook or have to restart the notebook, you can start from here.  The preprocessed data has been saved to disk."
   ]
  },
  {
   "cell_type": "code",
   "execution_count": 22,
   "metadata": {
    "collapsed": true,
    "deletable": true,
    "editable": true
   },
   "outputs": [],
   "source": [
    "\"\"\"\n",
    "DON'T MODIFY ANYTHING IN THIS CELL\n",
    "\"\"\"\n",
    "import pickle\n",
    "import problem_unittests as tests\n",
    "import helper\n",
    "\n",
    "# Load the Preprocessed Validation data\n",
    "valid_features, valid_labels = pickle.load(open('preprocess_validation.p', mode='rb'))"
   ]
  },
  {
   "cell_type": "markdown",
   "metadata": {
    "deletable": true,
    "editable": true
   },
   "source": [
    "## Build the network\n",
    "For the neural network, you'll build each layer into a function.  Most of the code you've seen has been outside of functions. To test your code more thoroughly, we require that you put each layer in a function.  This allows us to give you better feedback and test for simple mistakes using our unittests before you submit your project.\n",
    "\n",
    ">**Note:** If you're finding it hard to dedicate enough time for this course each week, we've provided a small shortcut to this part of the project. In the next couple of problems, you'll have the option to use classes from the [TensorFlow Layers](https://www.tensorflow.org/api_docs/python/tf/layers) or [TensorFlow Layers (contrib)](https://www.tensorflow.org/api_guides/python/contrib.layers) packages to build each layer, except the layers you build in the \"Convolutional and Max Pooling Layer\" section.  TF Layers is similar to Keras's and TFLearn's abstraction to layers, so it's easy to pickup.\n",
    "\n",
    ">However, if you would like to get the most out of this course, try to solve all the problems _without_ using anything from the TF Layers packages. You **can** still use classes from other packages that happen to have the same name as ones you find in TF Layers! For example, instead of using the TF Layers version of the `conv2d` class, [tf.layers.conv2d](https://www.tensorflow.org/api_docs/python/tf/layers/conv2d), you would want to use the TF Neural Network version of `conv2d`, [tf.nn.conv2d](https://www.tensorflow.org/api_docs/python/tf/nn/conv2d). \n",
    "\n",
    "Let's begin!\n",
    "\n",
    "### Input\n",
    "The neural network needs to read the image data, one-hot encoded labels, and dropout keep probability. Implement the following functions\n",
    "* Implement `neural_net_image_input`\n",
    " * Return a [TF Placeholder](https://www.tensorflow.org/api_docs/python/tf/placeholder)\n",
    " * Set the shape using `image_shape` with batch size set to `None`.\n",
    " * Name the TensorFlow placeholder \"x\" using the TensorFlow `name` parameter in the [TF Placeholder](https://www.tensorflow.org/api_docs/python/tf/placeholder).\n",
    "* Implement `neural_net_label_input`\n",
    " * Return a [TF Placeholder](https://www.tensorflow.org/api_docs/python/tf/placeholder)\n",
    " * Set the shape using `n_classes` with batch size set to `None`.\n",
    " * Name the TensorFlow placeholder \"y\" using the TensorFlow `name` parameter in the [TF Placeholder](https://www.tensorflow.org/api_docs/python/tf/placeholder).\n",
    "* Implement `neural_net_keep_prob_input`\n",
    " * Return a [TF Placeholder](https://www.tensorflow.org/api_docs/python/tf/placeholder) for dropout keep probability.\n",
    " * Name the TensorFlow placeholder \"keep_prob\" using the TensorFlow `name` parameter in the [TF Placeholder](https://www.tensorflow.org/api_docs/python/tf/placeholder).\n",
    "\n",
    "These names will be used at the end of the project to load your saved model.\n",
    "\n",
    "Note: `None` for shapes in TensorFlow allow for a dynamic size."
   ]
  },
  {
   "cell_type": "code",
   "execution_count": 23,
   "metadata": {
    "collapsed": false,
    "deletable": true,
    "editable": true
   },
   "outputs": [
    {
     "name": "stdout",
     "output_type": "stream",
     "text": [
      "Image Input Tests Passed.\n",
      "Label Input Tests Passed.\n",
      "Keep Prob Tests Passed.\n"
     ]
    }
   ],
   "source": [
    "import tensorflow as tf\n",
    "\n",
    "def neural_net_image_input(image_shape):\n",
    "    \"\"\"\n",
    "    Return a Tensor for a bach of image input\n",
    "    : image_shape: Shape of the images\n",
    "    : return: Tensor for image input.\n",
    "    \"\"\"\n",
    "    # TODO: Implement Function\n",
    "    return tf.placeholder(tf.float32, shape = [None, *image_shape], name = \"x\")\n",
    "\n",
    "\n",
    "def neural_net_label_input(n_classes):\n",
    "    \"\"\"\n",
    "    Return a Tensor for a batch of label input\n",
    "    : n_classes: Number of classes\n",
    "    : return: Tensor for label input.\n",
    "    \"\"\"\n",
    "    # TODO: Implement Function\n",
    "    return tf.placeholder(tf.int16, shape = [None, n_classes], name = \"y\")\n",
    "\n",
    "\n",
    "def neural_net_keep_prob_input():\n",
    "    \"\"\"\n",
    "    Return a Tensor for keep probability\n",
    "    : return: Tensor for keep probability.\n",
    "    \"\"\"\n",
    "    # TODO: Implement Function\n",
    "    return tf.placeholder(tf.float32, name = \"keep_prob\")\n",
    "\n",
    "\n",
    "\"\"\"\n",
    "DON'T MODIFY ANYTHING IN THIS CELL THAT IS BELOW THIS LINE\n",
    "\"\"\"\n",
    "tf.reset_default_graph()\n",
    "tests.test_nn_image_inputs(neural_net_image_input)\n",
    "tests.test_nn_label_inputs(neural_net_label_input)\n",
    "tests.test_nn_keep_prob_inputs(neural_net_keep_prob_input)"
   ]
  },
  {
   "cell_type": "markdown",
   "metadata": {
    "deletable": true,
    "editable": true
   },
   "source": [
    "### Convolution and Max Pooling Layer\n",
    "Convolution layers have a lot of success with images. For this code cell, you should implement the function `conv2d_maxpool` to apply convolution then max pooling:\n",
    "* Create the weight and bias using `conv_ksize`, `conv_num_outputs` and the shape of `x_tensor`.\n",
    "* Apply a convolution to `x_tensor` using weight and `conv_strides`.\n",
    " * We recommend you use same padding, but you're welcome to use any padding.\n",
    "* Add bias\n",
    "* Add a nonlinear activation to the convolution.\n",
    "* Apply Max Pooling using `pool_ksize` and `pool_strides`.\n",
    " * We recommend you use same padding, but you're welcome to use any padding.\n",
    "\n",
    "**Note:** You **can't** use [TensorFlow Layers](https://www.tensorflow.org/api_docs/python/tf/layers) or [TensorFlow Layers (contrib)](https://www.tensorflow.org/api_guides/python/contrib.layers) for **this** layer, but you can still use TensorFlow's [Neural Network](https://www.tensorflow.org/api_docs/python/tf/nn) package. You may still use the shortcut option for all the **other** layers."
   ]
  },
  {
   "cell_type": "code",
   "execution_count": 24,
   "metadata": {
    "collapsed": false,
    "deletable": true,
    "editable": true
   },
   "outputs": [
    {
     "name": "stdout",
     "output_type": "stream",
     "text": [
      "Tests Passed\n"
     ]
    }
   ],
   "source": [
    "import math\n",
    "def conv2d_maxpool(x_tensor, conv_num_outputs, conv_ksize, conv_strides, pool_ksize, pool_strides):\n",
    "    \"\"\"\n",
    "    Apply convolution then max pooling to x_tensor\n",
    "    :param x_tensor: TensorFlow Tensor\n",
    "    :param conv_num_outputs: Number of outputs for the convolutional layer\n",
    "    :param conv_strides: Stride 2-D Tuple for convolution\n",
    "    :param pool_ksize: kernal size 2-D Tuple for pool\n",
    "    :param pool_strides: Stride 2-D Tuple for pool\n",
    "    : return: A tensor that represents convolution and max pooling of x_tensor\n",
    "    \"\"\"\n",
    "    # TODO: Implement Function\n",
    "    W = tf.Variable(tf.truncated_normal(\n",
    "        [conv_ksize[0], conv_ksize[1], x_tensor.get_shape().as_list()[-1],\n",
    "         conv_num_outputs],\n",
    "        stddev=math.sqrt(2.0/(conv_ksize[0]*conv_ksize[1]*conv_num_outputs))\n",
    "    ))\n",
    "\n",
    "    b = tf.Variable(tf.zeros([conv_num_outputs]))\n",
    "\n",
    "    layer1 = tf.nn.conv2d(x_tensor, W,\n",
    "             strides=[1, conv_strides[0], conv_strides[1], 1],\n",
    "             padding='SAME')\n",
    "    layer1b = tf.nn.bias_add(layer1, b)\n",
    "    layer2 = tf.nn.relu(layer1b) # relu function seems to work better that softplus in this function\n",
    "    layer3 = tf.nn.max_pool(layer2, ksize=[1, pool_ksize[0], pool_ksize[1], 1],\n",
    "                            strides=[1, pool_strides[0], pool_strides[1], 1],\n",
    "                            padding='SAME',)\n",
    "\n",
    "    return layer3\n",
    "\n",
    "\n",
    "\"\"\"\n",
    "DON'T MODIFY ANYTHING IN THIS CELL THAT IS BELOW THIS LINE\n",
    "\"\"\"\n",
    "tests.test_con_pool(conv2d_maxpool)"
   ]
  },
  {
   "cell_type": "markdown",
   "metadata": {
    "deletable": true,
    "editable": true
   },
   "source": [
    "### Flatten Layer\n",
    "Implement the `flatten` function to change the dimension of `x_tensor` from a 4-D tensor to a 2-D tensor.  The output should be the shape (*Batch Size*, *Flattened Image Size*). Shortcut option: you can use classes from the [TensorFlow Layers](https://www.tensorflow.org/api_docs/python/tf/layers) or [TensorFlow Layers (contrib)](https://www.tensorflow.org/api_guides/python/contrib.layers) packages for this layer. For more of a challenge, only use other TensorFlow packages."
   ]
  },
  {
   "cell_type": "code",
   "execution_count": 25,
   "metadata": {
    "collapsed": false,
    "deletable": true,
    "editable": true
   },
   "outputs": [
    {
     "name": "stdout",
     "output_type": "stream",
     "text": [
      "Tests Passed\n"
     ]
    }
   ],
   "source": [
    "def flatten(x_tensor):\n",
    "    \"\"\"\n",
    "    Flatten x_tensor to (Batch Size, Flattened Image Size)\n",
    "    : x_tensor: A tensor of size (Batch Size, ...), where ... are the image dimensions.\n",
    "    : return: A tensor of size (Batch Size, Flattened Image Size).\n",
    "    \"\"\"\n",
    "    # TODO: Implement Function\n",
    "    return tf.reshape(x_tensor,\n",
    "                      [-1, np.prod(x_tensor.get_shape().as_list()[1:])])\n",
    "\n",
    "\n",
    "\"\"\"\n",
    "DON'T MODIFY ANYTHING IN THIS CELL THAT IS BELOW THIS LINE\n",
    "\"\"\"\n",
    "tests.test_flatten(flatten)"
   ]
  },
  {
   "cell_type": "markdown",
   "metadata": {
    "deletable": true,
    "editable": true
   },
   "source": [
    "### Fully-Connected Layer\n",
    "Implement the `fully_conn` function to apply a fully connected layer to `x_tensor` with the shape (*Batch Size*, *num_outputs*). Shortcut option: you can use classes from the [TensorFlow Layers](https://www.tensorflow.org/api_docs/python/tf/layers) or [TensorFlow Layers (contrib)](https://www.tensorflow.org/api_guides/python/contrib.layers) packages for this layer. For more of a challenge, only use other TensorFlow packages."
   ]
  },
  {
   "cell_type": "code",
   "execution_count": 26,
   "metadata": {
    "collapsed": false,
    "deletable": true,
    "editable": true
   },
   "outputs": [
    {
     "name": "stdout",
     "output_type": "stream",
     "text": [
      "Tests Passed\n"
     ]
    }
   ],
   "source": [
    "def fully_conn(x_tensor, num_outputs):\n",
    "    \"\"\"\n",
    "    Apply a fully connected layer to x_tensor using weight and bias\n",
    "    : x_tensor: A 2-D tensor where the first dimension is batch size.\n",
    "    : num_outputs: The number of output that the new tensor should be.\n",
    "    : return: A 2-D tensor where the second dimension is num_outputs.\n",
    "    \"\"\"\n",
    "    # TODO: Implement Function\n",
    "    W = tf.Variable(tf.truncated_normal([x_tensor.get_shape().as_list()[-1], \n",
    "                                         num_outputs],\n",
    "                                        stddev = math.sqrt(2.0 / x_tensor.get_shape().as_list()[-1] * num_outputs)))\n",
    "    b = tf.Variable(tf.zeros([num_outputs]))\n",
    "    return tf.nn.bias_add(tf.matmul(x_tensor, W), b)\n",
    "\n",
    "\n",
    "\n",
    "\"\"\"\n",
    "DON'T MODIFY ANYTHING IN THIS CELL THAT IS BELOW THIS LINE\n",
    "\"\"\"\n",
    "tests.test_fully_conn(fully_conn)"
   ]
  },
  {
   "cell_type": "markdown",
   "metadata": {
    "deletable": true,
    "editable": true
   },
   "source": [
    "### Output Layer\n",
    "Implement the `output` function to apply a fully connected layer to `x_tensor` with the shape (*Batch Size*, *num_outputs*). Shortcut option: you can use classes from the [TensorFlow Layers](https://www.tensorflow.org/api_docs/python/tf/layers) or [TensorFlow Layers (contrib)](https://www.tensorflow.org/api_guides/python/contrib.layers) packages for this layer. For more of a challenge, only use other TensorFlow packages.\n",
    "\n",
    "**Note:** Activation, softmax, or cross entropy should **not** be applied to this."
   ]
  },
  {
   "cell_type": "code",
   "execution_count": 27,
   "metadata": {
    "collapsed": false,
    "deletable": true,
    "editable": true
   },
   "outputs": [
    {
     "name": "stdout",
     "output_type": "stream",
     "text": [
      "Tests Passed\n"
     ]
    }
   ],
   "source": [
    "def output(x_tensor, num_outputs):\n",
    "    \"\"\"\n",
    "    Apply a output layer to x_tensor using weight and bias\n",
    "    : x_tensor: A 2-D tensor where the first dimension is batch size.\n",
    "    : num_outputs: The number of output that the new tensor should be.\n",
    "    : return: A 2-D tensor where the second dimension is num_outputs.\n",
    "    \"\"\"\n",
    "    # TODO: Implement Function\n",
    "    W = tf.Variable(tf.random_normal([x_tensor.get_shape().as_list()[-1], \n",
    "                                      num_outputs]))\n",
    "    b = tf.Variable(tf.random_normal([num_outputs]))\n",
    "    return tf.nn.bias_add(tf.matmul(x_tensor, W), b)\n",
    "\n",
    "\n",
    "\"\"\"\n",
    "DON'T MODIFY ANYTHING IN THIS CELL THAT IS BELOW THIS LINE\n",
    "\"\"\"\n",
    "tests.test_output(output)"
   ]
  },
  {
   "cell_type": "markdown",
   "metadata": {
    "deletable": true,
    "editable": true
   },
   "source": [
    "### Create Convolutional Model\n",
    "Implement the function `conv_net` to create a convolutional neural network model. The function takes in a batch of images, `x`, and outputs logits.  Use the layers you created above to create this model:\n",
    "\n",
    "* Apply 1, 2, or 3 Convolution and Max Pool layers\n",
    "* Apply a Flatten Layer\n",
    "* Apply 1, 2, or 3 Fully Connected Layers\n",
    "* Apply an Output Layer\n",
    "* Return the output\n",
    "* Apply [TensorFlow's Dropout](https://www.tensorflow.org/api_docs/python/tf/nn/dropout) to one or more layers in the model using `keep_prob`. "
   ]
  },
  {
   "cell_type": "code",
   "execution_count": 28,
   "metadata": {
    "collapsed": false,
    "deletable": true,
    "editable": true
   },
   "outputs": [
    {
     "name": "stdout",
     "output_type": "stream",
     "text": [
      "Neural Network Built!\n"
     ]
    }
   ],
   "source": [
    "def conv_net(x, keep_prob, is_training=True):\n",
    "    \"\"\"\n",
    "    Create a convolutional neural network model\n",
    "    : x: Placeholder tensor that holds image data.\n",
    "    : keep_prob: Placeholder tensor that hold dropout keep probability.\n",
    "    : return: Tensor that represents logits\n",
    "    \"\"\"\n",
    "    # TODO: Apply 1, 2, or 3 Convolution and Max Pool layers\n",
    "    #    Play around with different number of outputs, kernel size and stride\n",
    "    conv_ksize = [3, 3]; conv_strides = [1, 1]\n",
    "    pool_ksize = [2, 2]; pool_strides = [1, 1]\n",
    "    \n",
    "    conv_num_outputs = 8\n",
    "    conv_1 = conv2d_maxpool(x, conv_num_outputs, conv_ksize, conv_strides, pool_ksize, pool_strides)\n",
    "    \n",
    "    conv_num_outputs = 16\n",
    "    conv_1 = conv2d_maxpool(conv_1, conv_num_outputs, conv_ksize, conv_strides, pool_ksize, pool_strides)\n",
    "    \n",
    "    conv_num_outputs = 24\n",
    "    conv_1 = conv2d_maxpool(conv_1, conv_num_outputs, conv_ksize, conv_strides, pool_ksize, pool_strides)\n",
    "    \n",
    "    \n",
    "    # TODO: Apply a Flatten Layer\n",
    "    fc1 = flatten(conv_1)\n",
    "\n",
    "    # TODO: Apply 1, 2, or 3 Fully Connected Layers\n",
    "    #    Play around with different number of outputs\n",
    "    fc1 = fully_conn(fc1, 512)\n",
    "    # with rf.nn.relu - validation accuracy was not improving, with softplus works much better\n",
    "    fc1 = tf.nn.softplus(fc1)\n",
    "    fc1 = tf.nn.dropout(fc1, keep_prob)\n",
    "    \n",
    "    fc2 = fully_conn(fc1, 512)\n",
    "    fc2 = tf.nn.softplus(fc2)\n",
    "    fc2 = tf.nn.dropout(fc2, keep_prob)\n",
    "    \n",
    "    # TODO: Apply an Output Layer\n",
    "    #    Set this to the number of classes\n",
    "    return output(fc1, 10)\n",
    "\n",
    "\"\"\"\n",
    "DON'T MODIFY ANYTHING IN THIS CELL THAT IS BELOW THIS LINE\n",
    "\"\"\"\n",
    "\n",
    "##############################\n",
    "## Build the Neural Network ##\n",
    "##############################\n",
    "\n",
    "# Remove previous weights, bias, inputs, etc..\n",
    "tf.reset_default_graph()\n",
    "\n",
    "# Inputs\n",
    "x = neural_net_image_input((32, 32, 3))\n",
    "y = neural_net_label_input(10)\n",
    "keep_prob = neural_net_keep_prob_input()\n",
    "\n",
    "# Model\n",
    "logits = conv_net(x, keep_prob)\n",
    "\n",
    "# Name logits Tensor, so that is can be loaded from disk after training\n",
    "logits = tf.identity(logits, name='logits')\n",
    "\n",
    "# Loss and Optimizer\n",
    "cost = tf.reduce_mean(tf.nn.softmax_cross_entropy_with_logits(logits=logits, labels=y))\n",
    "optimizer = tf.train.AdamOptimizer().minimize(cost)\n",
    "\n",
    "# Accuracy\n",
    "correct_pred = tf.equal(tf.argmax(logits, 1), tf.argmax(y, 1))\n",
    "accuracy = tf.reduce_mean(tf.cast(correct_pred, tf.float32), name='accuracy')\n",
    "\n",
    "tests.test_conv_net(conv_net)"
   ]
  },
  {
   "cell_type": "markdown",
   "metadata": {
    "deletable": true,
    "editable": true
   },
   "source": [
    "## Train the Neural Network\n",
    "### Single Optimization\n",
    "Implement the function `train_neural_network` to do a single optimization.  The optimization should use `optimizer` to optimize in `session` with a `feed_dict` of the following:\n",
    "* `x` for image input\n",
    "* `y` for labels\n",
    "* `keep_prob` for keep probability for dropout\n",
    "\n",
    "This function will be called for each batch, so `tf.global_variables_initializer()` has already been called.\n",
    "\n",
    "Note: Nothing needs to be returned. This function is only optimizing the neural network."
   ]
  },
  {
   "cell_type": "code",
   "execution_count": 29,
   "metadata": {
    "collapsed": false,
    "deletable": true,
    "editable": true
   },
   "outputs": [
    {
     "name": "stdout",
     "output_type": "stream",
     "text": [
      "Tests Passed\n"
     ]
    }
   ],
   "source": [
    "def train_neural_network(session, optimizer, keep_probability, feature_batch, label_batch):\n",
    "    \"\"\"\n",
    "    Optimize the session on a batch of images and labels\n",
    "    : session: Current TensorFlow session\n",
    "    : optimizer: TensorFlow optimizer function\n",
    "    : keep_probability: keep probability\n",
    "    : feature_batch: Batch of Numpy image data\n",
    "    : label_batch: Batch of Numpy label data\n",
    "    \"\"\"\n",
    "    # TODO: Implement Function\n",
    "    pred = session.run(optimizer, feed_dict = {x: feature_batch, y: label_batch, keep_prob: keep_probability})\n",
    "    pass\n",
    "\n",
    "\n",
    "\"\"\"\n",
    "DON'T MODIFY ANYTHING IN THIS CELL THAT IS BELOW THIS LINE\n",
    "\"\"\"\n",
    "tests.test_train_nn(train_neural_network)"
   ]
  },
  {
   "cell_type": "markdown",
   "metadata": {
    "deletable": true,
    "editable": true
   },
   "source": [
    "### Show Stats\n",
    "Implement the function `print_stats` to print loss and validation accuracy.  Use the global variables `valid_features` and `valid_labels` to calculate validation accuracy.  Use a keep probability of `1.0` to calculate the loss and validation accuracy."
   ]
  },
  {
   "cell_type": "code",
   "execution_count": 30,
   "metadata": {
    "collapsed": false,
    "deletable": true,
    "editable": true
   },
   "outputs": [],
   "source": [
    "def print_stats(session, feature_batch, label_batch, cost, accuracy):\n",
    "    \"\"\"\n",
    "    Print information about loss and validation accuracy\n",
    "    : session: Current TensorFlow session\n",
    "    : feature_batch: Batch of Numpy image data\n",
    "    : label_batch: Batch of Numpy label data\n",
    "    : cost: TensorFlow cost function\n",
    "    : accuracy: TensorFlow accuracy function\n",
    "    \"\"\"\n",
    "    # TODO: Implement Function\n",
    "    loss = session.run(cost, feed_dict = \n",
    "                       {x: feature_batch,y: label_batch, keep_prob: 1.0})\n",
    "    acc = session.run(accuracy,feed_dict = \n",
    "                      {x: valid_features, y: valid_labels, keep_prob: 1.0})\n",
    "    print('Loss: {:>10.4f} Accuracy: {:.6f}'.format(loss, acc))\n",
    "    pass"
   ]
  },
  {
   "cell_type": "markdown",
   "metadata": {
    "deletable": true,
    "editable": true
   },
   "source": [
    "### Hyperparameters\n",
    "Tune the following parameters:\n",
    "* Set `epochs` to the number of iterations until the network stops learning or start overfitting\n",
    "* Set `batch_size` to the highest number that your machine has memory for.  Most people set them to common sizes of memory:\n",
    " * 64\n",
    " * 128\n",
    " * 256\n",
    " * ...\n",
    "* Set `keep_probability` to the probability of keeping a node using dropout"
   ]
  },
  {
   "cell_type": "code",
   "execution_count": 31,
   "metadata": {
    "collapsed": true,
    "deletable": true,
    "editable": true
   },
   "outputs": [],
   "source": [
    "# TODO: Tune Parameters\n",
    "epochs = 60\n",
    "batch_size = 128\n",
    "keep_probability = 0.6"
   ]
  },
  {
   "cell_type": "markdown",
   "metadata": {
    "deletable": true,
    "editable": true
   },
   "source": [
    "### Train on a Single CIFAR-10 Batch\n",
    "Instead of training the neural network on all the CIFAR-10 batches of data, let's use a single batch. This should save time while you iterate on the model to get a better accuracy.  Once the final validation accuracy is 50% or greater, run the model on all the data in the next section."
   ]
  },
  {
   "cell_type": "code",
   "execution_count": 32,
   "metadata": {
    "collapsed": false,
    "deletable": true,
    "editable": true
   },
   "outputs": [
    {
     "name": "stdout",
     "output_type": "stream",
     "text": [
      "Checking the Training on a Single Batch...\n",
      "Epoch  1, CIFAR-10 Batch 1:  Loss:     2.1340 Accuracy: 0.252600\n",
      "Epoch  2, CIFAR-10 Batch 1:  Loss:     1.7278 Accuracy: 0.399800\n",
      "Epoch  3, CIFAR-10 Batch 1:  Loss:     1.6221 Accuracy: 0.437600\n",
      "Epoch  4, CIFAR-10 Batch 1:  Loss:     1.5234 Accuracy: 0.460800\n",
      "Epoch  5, CIFAR-10 Batch 1:  Loss:     1.4207 Accuracy: 0.486800\n",
      "Epoch  6, CIFAR-10 Batch 1:  Loss:     1.2558 Accuracy: 0.499200\n",
      "Epoch  7, CIFAR-10 Batch 1:  Loss:     1.0546 Accuracy: 0.513000\n",
      "Epoch  8, CIFAR-10 Batch 1:  Loss:     0.8139 Accuracy: 0.519000\n",
      "Epoch  9, CIFAR-10 Batch 1:  Loss:     0.6689 Accuracy: 0.530400\n",
      "Epoch 10, CIFAR-10 Batch 1:  Loss:     0.4701 Accuracy: 0.524000\n",
      "Epoch 11, CIFAR-10 Batch 1:  Loss:     0.4079 Accuracy: 0.525200\n",
      "Epoch 12, CIFAR-10 Batch 1:  Loss:     0.2900 Accuracy: 0.534200\n",
      "Epoch 13, CIFAR-10 Batch 1:  Loss:     0.1630 Accuracy: 0.543800\n",
      "Epoch 14, CIFAR-10 Batch 1:  Loss:     0.0992 Accuracy: 0.541600\n",
      "Epoch 15, CIFAR-10 Batch 1:  Loss:     0.0774 Accuracy: 0.539200\n",
      "Epoch 16, CIFAR-10 Batch 1:  Loss:     0.0281 Accuracy: 0.537200\n",
      "Epoch 17, CIFAR-10 Batch 1:  Loss:     0.0268 Accuracy: 0.539200\n",
      "Epoch 18, CIFAR-10 Batch 1:  Loss:     0.0110 Accuracy: 0.544400\n",
      "Epoch 19, CIFAR-10 Batch 1:  Loss:     0.0088 Accuracy: 0.550200\n",
      "Epoch 20, CIFAR-10 Batch 1:  Loss:     0.0054 Accuracy: 0.543200\n",
      "Epoch 21, CIFAR-10 Batch 1:  Loss:     0.0049 Accuracy: 0.535200\n",
      "Epoch 22, CIFAR-10 Batch 1:  Loss:     0.0018 Accuracy: 0.541200\n",
      "Epoch 23, CIFAR-10 Batch 1:  Loss:     0.0020 Accuracy: 0.547800\n",
      "Epoch 24, CIFAR-10 Batch 1:  Loss:     0.0024 Accuracy: 0.546400\n",
      "Epoch 25, CIFAR-10 Batch 1:  Loss:     0.0024 Accuracy: 0.545600\n",
      "Epoch 26, CIFAR-10 Batch 1:  Loss:     0.0025 Accuracy: 0.549200\n",
      "Epoch 27, CIFAR-10 Batch 1:  Loss:     0.0038 Accuracy: 0.538600\n",
      "Epoch 28, CIFAR-10 Batch 1:  Loss:     0.0019 Accuracy: 0.546600\n",
      "Epoch 29, CIFAR-10 Batch 1:  Loss:     0.0060 Accuracy: 0.517200\n",
      "Epoch 30, CIFAR-10 Batch 1:  Loss:     0.0093 Accuracy: 0.535800\n",
      "Epoch 31, CIFAR-10 Batch 1:  Loss:     0.0029 Accuracy: 0.547600\n",
      "Epoch 32, CIFAR-10 Batch 1:  Loss:     0.0004 Accuracy: 0.551000\n",
      "Epoch 33, CIFAR-10 Batch 1:  Loss:     0.0015 Accuracy: 0.544400\n",
      "Epoch 34, CIFAR-10 Batch 1:  Loss:     0.0015 Accuracy: 0.553400\n",
      "Epoch 35, CIFAR-10 Batch 1:  Loss:     0.0015 Accuracy: 0.551400\n",
      "Epoch 36, CIFAR-10 Batch 1:  Loss:     0.0007 Accuracy: 0.556800\n",
      "Epoch 37, CIFAR-10 Batch 1:  Loss:     0.0013 Accuracy: 0.556000\n",
      "Epoch 38, CIFAR-10 Batch 1:  Loss:     0.0007 Accuracy: 0.547800\n",
      "Epoch 39, CIFAR-10 Batch 1:  Loss:     0.0002 Accuracy: 0.547000\n",
      "Epoch 40, CIFAR-10 Batch 1:  Loss:     0.0006 Accuracy: 0.546400\n",
      "Epoch 41, CIFAR-10 Batch 1:  Loss:     0.0004 Accuracy: 0.548000\n",
      "Epoch 42, CIFAR-10 Batch 1:  Loss:     0.0006 Accuracy: 0.549200\n",
      "Epoch 43, CIFAR-10 Batch 1:  Loss:     0.0005 Accuracy: 0.553200\n",
      "Epoch 44, CIFAR-10 Batch 1:  Loss:     0.0001 Accuracy: 0.552200\n",
      "Epoch 45, CIFAR-10 Batch 1:  Loss:     0.0004 Accuracy: 0.543800\n",
      "Epoch 46, CIFAR-10 Batch 1:  Loss:     0.0002 Accuracy: 0.548200\n",
      "Epoch 47, CIFAR-10 Batch 1:  Loss:     0.0074 Accuracy: 0.534600\n",
      "Epoch 48, CIFAR-10 Batch 1:  Loss:     0.0001 Accuracy: 0.551600\n",
      "Epoch 49, CIFAR-10 Batch 1:  Loss:     0.0001 Accuracy: 0.551800\n",
      "Epoch 50, CIFAR-10 Batch 1:  Loss:     0.0004 Accuracy: 0.531200\n",
      "Epoch 51, CIFAR-10 Batch 1:  Loss:     0.0001 Accuracy: 0.559400\n",
      "Epoch 52, CIFAR-10 Batch 1:  Loss:     0.0001 Accuracy: 0.543000\n",
      "Epoch 53, CIFAR-10 Batch 1:  Loss:     0.0001 Accuracy: 0.546000\n",
      "Epoch 54, CIFAR-10 Batch 1:  Loss:     0.0005 Accuracy: 0.534800\n",
      "Epoch 55, CIFAR-10 Batch 1:  Loss:     0.0003 Accuracy: 0.529400\n",
      "Epoch 56, CIFAR-10 Batch 1:  Loss:     0.0001 Accuracy: 0.530400\n",
      "Epoch 57, CIFAR-10 Batch 1:  Loss:     0.0003 Accuracy: 0.537600\n",
      "Epoch 58, CIFAR-10 Batch 1:  Loss:     0.0000 Accuracy: 0.548800\n",
      "Epoch 59, CIFAR-10 Batch 1:  Loss:     0.0000 Accuracy: 0.547200\n",
      "Epoch 60, CIFAR-10 Batch 1:  Loss:     0.0000 Accuracy: 0.552800\n"
     ]
    }
   ],
   "source": [
    "\"\"\"\n",
    "DON'T MODIFY ANYTHING IN THIS CELL\n",
    "\"\"\"\n",
    "print('Checking the Training on a Single Batch...')\n",
    "with tf.Session() as sess:\n",
    "    # Initializing the variables\n",
    "    sess.run(tf.global_variables_initializer())\n",
    "    \n",
    "    # Training cycle\n",
    "    for epoch in range(epochs):\n",
    "        batch_i = 1\n",
    "        for batch_features, batch_labels in helper.load_preprocess_training_batch(batch_i, batch_size):\n",
    "            train_neural_network(sess, optimizer, keep_probability, batch_features, batch_labels)\n",
    "        print('Epoch {:>2}, CIFAR-10 Batch {}:  '.format(epoch + 1, batch_i), end='')\n",
    "        print_stats(sess, batch_features, batch_labels, cost, accuracy)"
   ]
  },
  {
   "cell_type": "markdown",
   "metadata": {
    "deletable": true,
    "editable": true
   },
   "source": [
    "### Fully Train the Model\n",
    "Now that you got a good accuracy with a single CIFAR-10 batch, try it with all five batches."
   ]
  },
  {
   "cell_type": "code",
   "execution_count": 33,
   "metadata": {
    "collapsed": false,
    "deletable": true,
    "editable": true
   },
   "outputs": [
    {
     "name": "stdout",
     "output_type": "stream",
     "text": [
      "Training...\n",
      "Epoch  1, CIFAR-10 Batch 1:  Loss:     2.2676 Accuracy: 0.215200\n",
      "Epoch  1, CIFAR-10 Batch 2:  Loss:     1.8459 Accuracy: 0.343400\n",
      "Epoch  1, CIFAR-10 Batch 3:  Loss:     1.5875 Accuracy: 0.413800\n",
      "Epoch  1, CIFAR-10 Batch 4:  Loss:     1.5417 Accuracy: 0.430200\n",
      "Epoch  1, CIFAR-10 Batch 5:  Loss:     1.6141 Accuracy: 0.456200\n",
      "Epoch  2, CIFAR-10 Batch 1:  Loss:     1.6032 Accuracy: 0.472200\n",
      "Epoch  2, CIFAR-10 Batch 2:  Loss:     1.4365 Accuracy: 0.480600\n",
      "Epoch  2, CIFAR-10 Batch 3:  Loss:     1.2534 Accuracy: 0.497600\n",
      "Epoch  2, CIFAR-10 Batch 4:  Loss:     1.2892 Accuracy: 0.513000\n",
      "Epoch  2, CIFAR-10 Batch 5:  Loss:     1.3040 Accuracy: 0.513200\n",
      "Epoch  3, CIFAR-10 Batch 1:  Loss:     1.3987 Accuracy: 0.528400\n",
      "Epoch  3, CIFAR-10 Batch 2:  Loss:     1.1082 Accuracy: 0.541200\n",
      "Epoch  3, CIFAR-10 Batch 3:  Loss:     1.1264 Accuracy: 0.526800\n",
      "Epoch  3, CIFAR-10 Batch 4:  Loss:     1.0329 Accuracy: 0.556400\n",
      "Epoch  3, CIFAR-10 Batch 5:  Loss:     1.1176 Accuracy: 0.550200\n",
      "Epoch  4, CIFAR-10 Batch 1:  Loss:     1.1077 Accuracy: 0.583800\n",
      "Epoch  4, CIFAR-10 Batch 2:  Loss:     1.0001 Accuracy: 0.573600\n",
      "Epoch  4, CIFAR-10 Batch 3:  Loss:     0.8694 Accuracy: 0.581400\n",
      "Epoch  4, CIFAR-10 Batch 4:  Loss:     0.8419 Accuracy: 0.592000\n",
      "Epoch  4, CIFAR-10 Batch 5:  Loss:     0.8820 Accuracy: 0.578800\n",
      "Epoch  5, CIFAR-10 Batch 1:  Loss:     0.8568 Accuracy: 0.596800\n",
      "Epoch  5, CIFAR-10 Batch 2:  Loss:     0.6828 Accuracy: 0.603600\n",
      "Epoch  5, CIFAR-10 Batch 3:  Loss:     0.6595 Accuracy: 0.597200\n",
      "Epoch  5, CIFAR-10 Batch 4:  Loss:     0.6474 Accuracy: 0.613200\n",
      "Epoch  5, CIFAR-10 Batch 5:  Loss:     0.6713 Accuracy: 0.603800\n",
      "Epoch  6, CIFAR-10 Batch 1:  Loss:     0.7698 Accuracy: 0.615800\n",
      "Epoch  6, CIFAR-10 Batch 2:  Loss:     0.5289 Accuracy: 0.622200\n",
      "Epoch  6, CIFAR-10 Batch 3:  Loss:     0.5439 Accuracy: 0.616000\n",
      "Epoch  6, CIFAR-10 Batch 4:  Loss:     0.4986 Accuracy: 0.627800\n",
      "Epoch  6, CIFAR-10 Batch 5:  Loss:     0.4627 Accuracy: 0.621200\n",
      "Epoch  7, CIFAR-10 Batch 1:  Loss:     0.5546 Accuracy: 0.629800\n",
      "Epoch  7, CIFAR-10 Batch 2:  Loss:     0.2948 Accuracy: 0.611600\n",
      "Epoch  7, CIFAR-10 Batch 3:  Loss:     0.3386 Accuracy: 0.642400\n",
      "Epoch  7, CIFAR-10 Batch 4:  Loss:     0.4378 Accuracy: 0.631000\n",
      "Epoch  7, CIFAR-10 Batch 5:  Loss:     0.3738 Accuracy: 0.632000\n",
      "Epoch  8, CIFAR-10 Batch 1:  Loss:     0.4388 Accuracy: 0.627800\n",
      "Epoch  8, CIFAR-10 Batch 2:  Loss:     0.1693 Accuracy: 0.615600\n",
      "Epoch  8, CIFAR-10 Batch 3:  Loss:     0.2231 Accuracy: 0.644200\n",
      "Epoch  8, CIFAR-10 Batch 4:  Loss:     0.3021 Accuracy: 0.634200\n",
      "Epoch  8, CIFAR-10 Batch 5:  Loss:     0.3069 Accuracy: 0.643800\n",
      "Epoch  9, CIFAR-10 Batch 1:  Loss:     0.3266 Accuracy: 0.634200\n",
      "Epoch  9, CIFAR-10 Batch 2:  Loss:     0.1313 Accuracy: 0.644600\n",
      "Epoch  9, CIFAR-10 Batch 3:  Loss:     0.1481 Accuracy: 0.640200\n",
      "Epoch  9, CIFAR-10 Batch 4:  Loss:     0.2223 Accuracy: 0.644400\n",
      "Epoch  9, CIFAR-10 Batch 5:  Loss:     0.1964 Accuracy: 0.644800\n",
      "Epoch 10, CIFAR-10 Batch 1:  Loss:     0.3038 Accuracy: 0.600000\n",
      "Epoch 10, CIFAR-10 Batch 2:  Loss:     0.1076 Accuracy: 0.636400\n",
      "Epoch 10, CIFAR-10 Batch 3:  Loss:     0.0761 Accuracy: 0.641600\n",
      "Epoch 10, CIFAR-10 Batch 4:  Loss:     0.1695 Accuracy: 0.630400\n",
      "Epoch 10, CIFAR-10 Batch 5:  Loss:     0.1587 Accuracy: 0.634000\n",
      "Epoch 11, CIFAR-10 Batch 1:  Loss:     0.1230 Accuracy: 0.644400\n",
      "Epoch 11, CIFAR-10 Batch 2:  Loss:     0.0842 Accuracy: 0.640600\n",
      "Epoch 11, CIFAR-10 Batch 3:  Loss:     0.0716 Accuracy: 0.639600\n",
      "Epoch 11, CIFAR-10 Batch 4:  Loss:     0.1147 Accuracy: 0.639600\n",
      "Epoch 11, CIFAR-10 Batch 5:  Loss:     0.2157 Accuracy: 0.625200\n",
      "Epoch 12, CIFAR-10 Batch 1:  Loss:     0.0597 Accuracy: 0.645800\n",
      "Epoch 12, CIFAR-10 Batch 2:  Loss:     0.0452 Accuracy: 0.625800\n",
      "Epoch 12, CIFAR-10 Batch 3:  Loss:     0.0717 Accuracy: 0.662000\n",
      "Epoch 12, CIFAR-10 Batch 4:  Loss:     0.0801 Accuracy: 0.646600\n",
      "Epoch 12, CIFAR-10 Batch 5:  Loss:     0.1030 Accuracy: 0.627800\n",
      "Epoch 13, CIFAR-10 Batch 1:  Loss:     0.0458 Accuracy: 0.656600\n",
      "Epoch 13, CIFAR-10 Batch 2:  Loss:     0.0725 Accuracy: 0.636200\n",
      "Epoch 13, CIFAR-10 Batch 3:  Loss:     0.0509 Accuracy: 0.666000\n",
      "Epoch 13, CIFAR-10 Batch 4:  Loss:     0.0629 Accuracy: 0.647200\n",
      "Epoch 13, CIFAR-10 Batch 5:  Loss:     0.0712 Accuracy: 0.621200\n",
      "Epoch 14, CIFAR-10 Batch 1:  Loss:     0.0227 Accuracy: 0.654000\n",
      "Epoch 14, CIFAR-10 Batch 2:  Loss:     0.0149 Accuracy: 0.648600\n",
      "Epoch 14, CIFAR-10 Batch 3:  Loss:     0.0391 Accuracy: 0.644800\n",
      "Epoch 14, CIFAR-10 Batch 4:  Loss:     0.0106 Accuracy: 0.663400\n",
      "Epoch 14, CIFAR-10 Batch 5:  Loss:     0.0427 Accuracy: 0.635000\n",
      "Epoch 15, CIFAR-10 Batch 1:  Loss:     0.0128 Accuracy: 0.651000\n",
      "Epoch 15, CIFAR-10 Batch 2:  Loss:     0.0182 Accuracy: 0.645000\n",
      "Epoch 15, CIFAR-10 Batch 3:  Loss:     0.0541 Accuracy: 0.627800\n",
      "Epoch 15, CIFAR-10 Batch 4:  Loss:     0.0187 Accuracy: 0.645800\n",
      "Epoch 15, CIFAR-10 Batch 5:  Loss:     0.0187 Accuracy: 0.646600\n",
      "Epoch 16, CIFAR-10 Batch 1:  Loss:     0.0150 Accuracy: 0.653600\n",
      "Epoch 16, CIFAR-10 Batch 2:  Loss:     0.0050 Accuracy: 0.659000\n",
      "Epoch 16, CIFAR-10 Batch 3:  Loss:     0.0167 Accuracy: 0.647800\n",
      "Epoch 16, CIFAR-10 Batch 4:  Loss:     0.0019 Accuracy: 0.650000\n",
      "Epoch 16, CIFAR-10 Batch 5:  Loss:     0.0142 Accuracy: 0.652600\n",
      "Epoch 17, CIFAR-10 Batch 1:  Loss:     0.0082 Accuracy: 0.655800\n",
      "Epoch 17, CIFAR-10 Batch 2:  Loss:     0.0074 Accuracy: 0.649600\n",
      "Epoch 17, CIFAR-10 Batch 3:  Loss:     0.0122 Accuracy: 0.636800\n",
      "Epoch 17, CIFAR-10 Batch 4:  Loss:     0.0057 Accuracy: 0.633800\n",
      "Epoch 17, CIFAR-10 Batch 5:  Loss:     0.0067 Accuracy: 0.650600\n",
      "Epoch 18, CIFAR-10 Batch 1:  Loss:     0.0129 Accuracy: 0.647800\n",
      "Epoch 18, CIFAR-10 Batch 2:  Loss:     0.0086 Accuracy: 0.647200\n",
      "Epoch 18, CIFAR-10 Batch 3:  Loss:     0.0111 Accuracy: 0.649200\n",
      "Epoch 18, CIFAR-10 Batch 4:  Loss:     0.0060 Accuracy: 0.652800\n",
      "Epoch 18, CIFAR-10 Batch 5:  Loss:     0.0062 Accuracy: 0.649000\n",
      "Epoch 19, CIFAR-10 Batch 1:  Loss:     0.0033 Accuracy: 0.642600\n",
      "Epoch 19, CIFAR-10 Batch 2:  Loss:     0.0017 Accuracy: 0.649600\n",
      "Epoch 19, CIFAR-10 Batch 3:  Loss:     0.0136 Accuracy: 0.641200\n",
      "Epoch 19, CIFAR-10 Batch 4:  Loss:     0.0065 Accuracy: 0.643000\n",
      "Epoch 19, CIFAR-10 Batch 5:  Loss:     0.0099 Accuracy: 0.654000\n",
      "Epoch 20, CIFAR-10 Batch 1:  Loss:     0.0100 Accuracy: 0.635800\n",
      "Epoch 20, CIFAR-10 Batch 2:  Loss:     0.0023 Accuracy: 0.643600\n",
      "Epoch 20, CIFAR-10 Batch 3:  Loss:     0.0071 Accuracy: 0.646400\n",
      "Epoch 20, CIFAR-10 Batch 4:  Loss:     0.0038 Accuracy: 0.643400\n",
      "Epoch 20, CIFAR-10 Batch 5:  Loss:     0.0030 Accuracy: 0.655200\n",
      "Epoch 21, CIFAR-10 Batch 1:  Loss:     0.0057 Accuracy: 0.636800\n",
      "Epoch 21, CIFAR-10 Batch 2:  Loss:     0.0025 Accuracy: 0.647400\n",
      "Epoch 21, CIFAR-10 Batch 3:  Loss:     0.0081 Accuracy: 0.645000\n",
      "Epoch 21, CIFAR-10 Batch 4:  Loss:     0.0018 Accuracy: 0.658400\n",
      "Epoch 21, CIFAR-10 Batch 5:  Loss:     0.0055 Accuracy: 0.657800\n",
      "Epoch 22, CIFAR-10 Batch 1:  Loss:     0.0143 Accuracy: 0.644200\n",
      "Epoch 22, CIFAR-10 Batch 2:  Loss:     0.0002 Accuracy: 0.655600\n",
      "Epoch 22, CIFAR-10 Batch 3:  Loss:     0.0094 Accuracy: 0.651800\n",
      "Epoch 22, CIFAR-10 Batch 4:  Loss:     0.0122 Accuracy: 0.651600\n",
      "Epoch 22, CIFAR-10 Batch 5:  Loss:     0.0028 Accuracy: 0.648200\n",
      "Epoch 23, CIFAR-10 Batch 1:  Loss:     0.0072 Accuracy: 0.647400\n",
      "Epoch 23, CIFAR-10 Batch 2:  Loss:     0.0009 Accuracy: 0.657800\n",
      "Epoch 23, CIFAR-10 Batch 3:  Loss:     0.0004 Accuracy: 0.663600\n",
      "Epoch 23, CIFAR-10 Batch 4:  Loss:     0.0006 Accuracy: 0.657200\n",
      "Epoch 23, CIFAR-10 Batch 5:  Loss:     0.0007 Accuracy: 0.657200\n",
      "Epoch 24, CIFAR-10 Batch 1:  Loss:     0.0045 Accuracy: 0.660800\n",
      "Epoch 24, CIFAR-10 Batch 2:  Loss:     0.0013 Accuracy: 0.644000\n",
      "Epoch 24, CIFAR-10 Batch 3:  Loss:     0.0020 Accuracy: 0.651600\n",
      "Epoch 24, CIFAR-10 Batch 4:  Loss:     0.0005 Accuracy: 0.657800\n",
      "Epoch 24, CIFAR-10 Batch 5:  Loss:     0.0013 Accuracy: 0.647400\n",
      "Epoch 25, CIFAR-10 Batch 1:  Loss:     0.0037 Accuracy: 0.644800\n",
      "Epoch 25, CIFAR-10 Batch 2:  Loss:     0.0034 Accuracy: 0.651800\n",
      "Epoch 25, CIFAR-10 Batch 3:  Loss:     0.0040 Accuracy: 0.650600\n",
      "Epoch 25, CIFAR-10 Batch 4:  Loss:     0.0012 Accuracy: 0.654800\n",
      "Epoch 25, CIFAR-10 Batch 5:  Loss:     0.0009 Accuracy: 0.655600\n",
      "Epoch 26, CIFAR-10 Batch 1:  Loss:     0.0011 Accuracy: 0.654800\n",
      "Epoch 26, CIFAR-10 Batch 2:  Loss:     0.0007 Accuracy: 0.656000\n",
      "Epoch 26, CIFAR-10 Batch 3:  Loss:     0.0002 Accuracy: 0.656400\n",
      "Epoch 26, CIFAR-10 Batch 4:  Loss:     0.0015 Accuracy: 0.652400\n",
      "Epoch 26, CIFAR-10 Batch 5:  Loss:     0.0008 Accuracy: 0.655600\n",
      "Epoch 27, CIFAR-10 Batch 1:  Loss:     0.0215 Accuracy: 0.643600\n",
      "Epoch 27, CIFAR-10 Batch 2:  Loss:     0.0010 Accuracy: 0.651600\n",
      "Epoch 27, CIFAR-10 Batch 3:  Loss:     0.0028 Accuracy: 0.649800\n",
      "Epoch 27, CIFAR-10 Batch 4:  Loss:     0.0016 Accuracy: 0.664400\n",
      "Epoch 27, CIFAR-10 Batch 5:  Loss:     0.0003 Accuracy: 0.654600\n",
      "Epoch 28, CIFAR-10 Batch 1:  Loss:     0.0043 Accuracy: 0.651200\n",
      "Epoch 28, CIFAR-10 Batch 2:  Loss:     0.0005 Accuracy: 0.661200\n",
      "Epoch 28, CIFAR-10 Batch 3:  Loss:     0.0010 Accuracy: 0.655000\n",
      "Epoch 28, CIFAR-10 Batch 4:  Loss:     0.0003 Accuracy: 0.654600\n",
      "Epoch 28, CIFAR-10 Batch 5:  Loss:     0.0001 Accuracy: 0.667000\n",
      "Epoch 29, CIFAR-10 Batch 1:  Loss:     0.0035 Accuracy: 0.653000\n",
      "Epoch 29, CIFAR-10 Batch 2:  Loss:     0.0002 Accuracy: 0.653000\n",
      "Epoch 29, CIFAR-10 Batch 3:  Loss:     0.0079 Accuracy: 0.639800\n",
      "Epoch 29, CIFAR-10 Batch 4:  Loss:     0.0007 Accuracy: 0.663000\n",
      "Epoch 29, CIFAR-10 Batch 5:  Loss:     0.0019 Accuracy: 0.657800\n",
      "Epoch 30, CIFAR-10 Batch 1:  Loss:     0.0014 Accuracy: 0.659200\n",
      "Epoch 30, CIFAR-10 Batch 2:  Loss:     0.0003 Accuracy: 0.665400\n",
      "Epoch 30, CIFAR-10 Batch 3:  Loss:     0.0014 Accuracy: 0.651400\n",
      "Epoch 30, CIFAR-10 Batch 4:  Loss:     0.0001 Accuracy: 0.648200\n",
      "Epoch 30, CIFAR-10 Batch 5:  Loss:     0.0006 Accuracy: 0.657400\n",
      "Epoch 31, CIFAR-10 Batch 1:  Loss:     0.0019 Accuracy: 0.652600\n",
      "Epoch 31, CIFAR-10 Batch 2:  Loss:     0.0003 Accuracy: 0.655400\n",
      "Epoch 31, CIFAR-10 Batch 3:  Loss:     0.0012 Accuracy: 0.634400\n",
      "Epoch 31, CIFAR-10 Batch 4:  Loss:     0.0003 Accuracy: 0.657400\n",
      "Epoch 31, CIFAR-10 Batch 5:  Loss:     0.0005 Accuracy: 0.653000\n",
      "Epoch 32, CIFAR-10 Batch 1:  Loss:     0.0008 Accuracy: 0.657800\n",
      "Epoch 32, CIFAR-10 Batch 2:  Loss:     0.0009 Accuracy: 0.647600\n",
      "Epoch 32, CIFAR-10 Batch 3:  Loss:     0.0000 Accuracy: 0.655800\n",
      "Epoch 32, CIFAR-10 Batch 4:  Loss:     0.0008 Accuracy: 0.654800\n",
      "Epoch 32, CIFAR-10 Batch 5:  Loss:     0.0003 Accuracy: 0.661400\n",
      "Epoch 33, CIFAR-10 Batch 1:  Loss:     0.0025 Accuracy: 0.653800\n",
      "Epoch 33, CIFAR-10 Batch 2:  Loss:     0.0000 Accuracy: 0.660000\n",
      "Epoch 33, CIFAR-10 Batch 3:  Loss:     0.0010 Accuracy: 0.660200\n",
      "Epoch 33, CIFAR-10 Batch 4:  Loss:     0.0007 Accuracy: 0.670400\n",
      "Epoch 33, CIFAR-10 Batch 5:  Loss:     0.0052 Accuracy: 0.636600\n",
      "Epoch 34, CIFAR-10 Batch 1:  Loss:     0.0005 Accuracy: 0.659800\n",
      "Epoch 34, CIFAR-10 Batch 2:  Loss:     0.0005 Accuracy: 0.661800\n",
      "Epoch 34, CIFAR-10 Batch 3:  Loss:     0.0002 Accuracy: 0.650000\n",
      "Epoch 34, CIFAR-10 Batch 4:  Loss:     0.0004 Accuracy: 0.672400\n",
      "Epoch 34, CIFAR-10 Batch 5:  Loss:     0.0024 Accuracy: 0.655200\n",
      "Epoch 35, CIFAR-10 Batch 1:  Loss:     0.0001 Accuracy: 0.661600\n",
      "Epoch 35, CIFAR-10 Batch 2:  Loss:     0.0001 Accuracy: 0.657400\n",
      "Epoch 35, CIFAR-10 Batch 3:  Loss:     0.0004 Accuracy: 0.645000\n",
      "Epoch 35, CIFAR-10 Batch 4:  Loss:     0.0020 Accuracy: 0.660200\n",
      "Epoch 35, CIFAR-10 Batch 5:  Loss:     0.0005 Accuracy: 0.645600\n",
      "Epoch 36, CIFAR-10 Batch 1:  Loss:     0.0003 Accuracy: 0.662600\n",
      "Epoch 36, CIFAR-10 Batch 2:  Loss:     0.0001 Accuracy: 0.665400\n",
      "Epoch 36, CIFAR-10 Batch 3:  Loss:     0.0051 Accuracy: 0.632400\n",
      "Epoch 36, CIFAR-10 Batch 4:  Loss:     0.0022 Accuracy: 0.657600\n",
      "Epoch 36, CIFAR-10 Batch 5:  Loss:     0.0004 Accuracy: 0.651800\n",
      "Epoch 37, CIFAR-10 Batch 1:  Loss:     0.0003 Accuracy: 0.653000\n",
      "Epoch 37, CIFAR-10 Batch 2:  Loss:     0.0003 Accuracy: 0.651600\n",
      "Epoch 37, CIFAR-10 Batch 3:  Loss:     0.0005 Accuracy: 0.649000\n",
      "Epoch 37, CIFAR-10 Batch 4:  Loss:     0.0010 Accuracy: 0.659800\n",
      "Epoch 37, CIFAR-10 Batch 5:  Loss:     0.0002 Accuracy: 0.649000\n",
      "Epoch 38, CIFAR-10 Batch 1:  Loss:     0.0043 Accuracy: 0.651400\n",
      "Epoch 38, CIFAR-10 Batch 2:  Loss:     0.0002 Accuracy: 0.652600\n",
      "Epoch 38, CIFAR-10 Batch 3:  Loss:     0.0004 Accuracy: 0.638800\n",
      "Epoch 38, CIFAR-10 Batch 4:  Loss:     0.0011 Accuracy: 0.659800\n",
      "Epoch 38, CIFAR-10 Batch 5:  Loss:     0.0000 Accuracy: 0.653200\n",
      "Epoch 39, CIFAR-10 Batch 1:  Loss:     0.0003 Accuracy: 0.664000\n",
      "Epoch 39, CIFAR-10 Batch 2:  Loss:     0.0011 Accuracy: 0.666600\n",
      "Epoch 39, CIFAR-10 Batch 3:  Loss:     0.0001 Accuracy: 0.653200\n",
      "Epoch 39, CIFAR-10 Batch 4:  Loss:     0.0009 Accuracy: 0.663200\n",
      "Epoch 39, CIFAR-10 Batch 5:  Loss:     0.0014 Accuracy: 0.655000\n",
      "Epoch 40, CIFAR-10 Batch 1:  Loss:     0.0003 Accuracy: 0.662600\n",
      "Epoch 40, CIFAR-10 Batch 2:  Loss:     0.0035 Accuracy: 0.649200\n",
      "Epoch 40, CIFAR-10 Batch 3:  Loss:     0.0028 Accuracy: 0.633800\n",
      "Epoch 40, CIFAR-10 Batch 4:  Loss:     0.0006 Accuracy: 0.663400\n",
      "Epoch 40, CIFAR-10 Batch 5:  Loss:     0.0002 Accuracy: 0.665000\n",
      "Epoch 41, CIFAR-10 Batch 1:  Loss:     0.0009 Accuracy: 0.654600\n",
      "Epoch 41, CIFAR-10 Batch 2:  Loss:     0.0009 Accuracy: 0.651200\n",
      "Epoch 41, CIFAR-10 Batch 3:  Loss:     0.0011 Accuracy: 0.654000\n",
      "Epoch 41, CIFAR-10 Batch 4:  Loss:     0.0002 Accuracy: 0.664000\n",
      "Epoch 41, CIFAR-10 Batch 5:  Loss:     0.0000 Accuracy: 0.666800\n",
      "Epoch 42, CIFAR-10 Batch 1:  Loss:     0.0001 Accuracy: 0.661800\n",
      "Epoch 42, CIFAR-10 Batch 2:  Loss:     0.0036 Accuracy: 0.661000\n",
      "Epoch 42, CIFAR-10 Batch 3:  Loss:     0.0000 Accuracy: 0.649400\n",
      "Epoch 42, CIFAR-10 Batch 4:  Loss:     0.0010 Accuracy: 0.659200\n",
      "Epoch 42, CIFAR-10 Batch 5:  Loss:     0.0004 Accuracy: 0.661400\n",
      "Epoch 43, CIFAR-10 Batch 1:  Loss:     0.0002 Accuracy: 0.654800\n",
      "Epoch 43, CIFAR-10 Batch 2:  Loss:     0.0004 Accuracy: 0.652200\n",
      "Epoch 43, CIFAR-10 Batch 3:  Loss:     0.0000 Accuracy: 0.645000\n",
      "Epoch 43, CIFAR-10 Batch 4:  Loss:     0.0006 Accuracy: 0.666600\n",
      "Epoch 43, CIFAR-10 Batch 5:  Loss:     0.0042 Accuracy: 0.652000\n",
      "Epoch 44, CIFAR-10 Batch 1:  Loss:     0.0005 Accuracy: 0.656000\n",
      "Epoch 44, CIFAR-10 Batch 2:  Loss:     0.0001 Accuracy: 0.655200\n",
      "Epoch 44, CIFAR-10 Batch 3:  Loss:     0.0003 Accuracy: 0.641800\n",
      "Epoch 44, CIFAR-10 Batch 4:  Loss:     0.0002 Accuracy: 0.665800\n",
      "Epoch 44, CIFAR-10 Batch 5:  Loss:     0.0003 Accuracy: 0.661600\n",
      "Epoch 45, CIFAR-10 Batch 1:  Loss:     0.0001 Accuracy: 0.651200\n",
      "Epoch 45, CIFAR-10 Batch 2:  Loss:     0.0021 Accuracy: 0.659400\n",
      "Epoch 45, CIFAR-10 Batch 3:  Loss:     0.0003 Accuracy: 0.654600\n",
      "Epoch 45, CIFAR-10 Batch 4:  Loss:     0.0015 Accuracy: 0.652000\n",
      "Epoch 45, CIFAR-10 Batch 5:  Loss:     0.0001 Accuracy: 0.656400\n",
      "Epoch 46, CIFAR-10 Batch 1:  Loss:     0.0098 Accuracy: 0.639600\n",
      "Epoch 46, CIFAR-10 Batch 2:  Loss:     0.0003 Accuracy: 0.657400\n",
      "Epoch 46, CIFAR-10 Batch 3:  Loss:     0.0005 Accuracy: 0.645000\n",
      "Epoch 46, CIFAR-10 Batch 4:  Loss:     0.0000 Accuracy: 0.655000\n",
      "Epoch 46, CIFAR-10 Batch 5:  Loss:     0.0000 Accuracy: 0.665400\n",
      "Epoch 47, CIFAR-10 Batch 1:  Loss:     0.0002 Accuracy: 0.640000\n",
      "Epoch 47, CIFAR-10 Batch 2:  Loss:     0.0000 Accuracy: 0.658000\n",
      "Epoch 47, CIFAR-10 Batch 3:  Loss:     0.0008 Accuracy: 0.655600\n",
      "Epoch 47, CIFAR-10 Batch 4:  Loss:     0.0002 Accuracy: 0.661600\n",
      "Epoch 47, CIFAR-10 Batch 5:  Loss:     0.0002 Accuracy: 0.655800\n",
      "Epoch 48, CIFAR-10 Batch 1:  Loss:     0.0034 Accuracy: 0.654200\n",
      "Epoch 48, CIFAR-10 Batch 2:  Loss:     0.0004 Accuracy: 0.656000\n",
      "Epoch 48, CIFAR-10 Batch 3:  Loss:     0.0000 Accuracy: 0.656000\n",
      "Epoch 48, CIFAR-10 Batch 4:  Loss:     0.0007 Accuracy: 0.667600\n",
      "Epoch 48, CIFAR-10 Batch 5:  Loss:     0.0000 Accuracy: 0.667000\n",
      "Epoch 49, CIFAR-10 Batch 1:  Loss:     0.0001 Accuracy: 0.649600\n",
      "Epoch 49, CIFAR-10 Batch 2:  Loss:     0.0000 Accuracy: 0.649400\n",
      "Epoch 49, CIFAR-10 Batch 3:  Loss:     0.0000 Accuracy: 0.655200\n",
      "Epoch 49, CIFAR-10 Batch 4:  Loss:     0.0049 Accuracy: 0.661800\n",
      "Epoch 49, CIFAR-10 Batch 5:  Loss:     0.0001 Accuracy: 0.650800\n",
      "Epoch 50, CIFAR-10 Batch 1:  Loss:     0.0003 Accuracy: 0.641400\n",
      "Epoch 50, CIFAR-10 Batch 2:  Loss:     0.0000 Accuracy: 0.665400\n",
      "Epoch 50, CIFAR-10 Batch 3:  Loss:     0.0000 Accuracy: 0.654800\n",
      "Epoch 50, CIFAR-10 Batch 4:  Loss:     0.0003 Accuracy: 0.659000\n",
      "Epoch 50, CIFAR-10 Batch 5:  Loss:     0.0000 Accuracy: 0.656800\n",
      "Epoch 51, CIFAR-10 Batch 1:  Loss:     0.0004 Accuracy: 0.645800\n",
      "Epoch 51, CIFAR-10 Batch 2:  Loss:     0.0000 Accuracy: 0.655400\n",
      "Epoch 51, CIFAR-10 Batch 3:  Loss:     0.0041 Accuracy: 0.649600\n",
      "Epoch 51, CIFAR-10 Batch 4:  Loss:     0.0002 Accuracy: 0.659400\n",
      "Epoch 51, CIFAR-10 Batch 5:  Loss:     0.0001 Accuracy: 0.655400\n",
      "Epoch 52, CIFAR-10 Batch 1:  Loss:     0.0005 Accuracy: 0.656400\n",
      "Epoch 52, CIFAR-10 Batch 2:  Loss:     0.0001 Accuracy: 0.656600\n",
      "Epoch 52, CIFAR-10 Batch 3:  Loss:     0.0001 Accuracy: 0.644800\n",
      "Epoch 52, CIFAR-10 Batch 4:  Loss:     0.0001 Accuracy: 0.662800\n",
      "Epoch 52, CIFAR-10 Batch 5:  Loss:     0.0001 Accuracy: 0.668200\n",
      "Epoch 53, CIFAR-10 Batch 1:  Loss:     0.0000 Accuracy: 0.660800\n",
      "Epoch 53, CIFAR-10 Batch 2:  Loss:     0.0003 Accuracy: 0.651400\n",
      "Epoch 53, CIFAR-10 Batch 3:  Loss:     0.0000 Accuracy: 0.650600\n",
      "Epoch 53, CIFAR-10 Batch 4:  Loss:     0.0033 Accuracy: 0.652400\n",
      "Epoch 53, CIFAR-10 Batch 5:  Loss:     0.0001 Accuracy: 0.659800\n",
      "Epoch 54, CIFAR-10 Batch 1:  Loss:     0.0002 Accuracy: 0.647800\n",
      "Epoch 54, CIFAR-10 Batch 2:  Loss:     0.0000 Accuracy: 0.667400\n",
      "Epoch 54, CIFAR-10 Batch 3:  Loss:     0.0000 Accuracy: 0.652200\n",
      "Epoch 54, CIFAR-10 Batch 4:  Loss:     0.0000 Accuracy: 0.661000\n",
      "Epoch 54, CIFAR-10 Batch 5:  Loss:     0.0000 Accuracy: 0.655800\n",
      "Epoch 55, CIFAR-10 Batch 1:  Loss:     0.0008 Accuracy: 0.632800\n",
      "Epoch 55, CIFAR-10 Batch 2:  Loss:     0.0001 Accuracy: 0.656200\n",
      "Epoch 55, CIFAR-10 Batch 3:  Loss:     0.0000 Accuracy: 0.647000\n",
      "Epoch 55, CIFAR-10 Batch 4:  Loss:     0.0000 Accuracy: 0.662800\n",
      "Epoch 55, CIFAR-10 Batch 5:  Loss:     0.0000 Accuracy: 0.658200\n",
      "Epoch 56, CIFAR-10 Batch 1:  Loss:     0.0007 Accuracy: 0.651600\n",
      "Epoch 56, CIFAR-10 Batch 2:  Loss:     0.0006 Accuracy: 0.662200\n",
      "Epoch 56, CIFAR-10 Batch 3:  Loss:     0.0002 Accuracy: 0.658000\n",
      "Epoch 56, CIFAR-10 Batch 4:  Loss:     0.0006 Accuracy: 0.649600\n",
      "Epoch 56, CIFAR-10 Batch 5:  Loss:     0.0003 Accuracy: 0.656600\n",
      "Epoch 57, CIFAR-10 Batch 1:  Loss:     0.0001 Accuracy: 0.649800\n",
      "Epoch 57, CIFAR-10 Batch 2:  Loss:     0.0000 Accuracy: 0.654600\n",
      "Epoch 57, CIFAR-10 Batch 3:  Loss:     0.0000 Accuracy: 0.664000\n",
      "Epoch 57, CIFAR-10 Batch 4:  Loss:     0.0002 Accuracy: 0.651400\n",
      "Epoch 57, CIFAR-10 Batch 5:  Loss:     0.0000 Accuracy: 0.668200\n",
      "Epoch 58, CIFAR-10 Batch 1:  Loss:     0.0001 Accuracy: 0.649800\n",
      "Epoch 58, CIFAR-10 Batch 2:  Loss:     0.0001 Accuracy: 0.669200\n",
      "Epoch 58, CIFAR-10 Batch 3:  Loss:     0.0000 Accuracy: 0.664000\n",
      "Epoch 58, CIFAR-10 Batch 4:  Loss:     0.0001 Accuracy: 0.662600\n",
      "Epoch 58, CIFAR-10 Batch 5:  Loss:     0.0001 Accuracy: 0.662800\n",
      "Epoch 59, CIFAR-10 Batch 1:  Loss:     0.0003 Accuracy: 0.647000\n",
      "Epoch 59, CIFAR-10 Batch 2:  Loss:     0.0000 Accuracy: 0.665000\n",
      "Epoch 59, CIFAR-10 Batch 3:  Loss:     0.0000 Accuracy: 0.656400\n",
      "Epoch 59, CIFAR-10 Batch 4:  Loss:     0.0001 Accuracy: 0.663600\n",
      "Epoch 59, CIFAR-10 Batch 5:  Loss:     0.0000 Accuracy: 0.659200\n",
      "Epoch 60, CIFAR-10 Batch 1:  Loss:     0.0003 Accuracy: 0.656200\n",
      "Epoch 60, CIFAR-10 Batch 2:  Loss:     0.0000 Accuracy: 0.671400\n",
      "Epoch 60, CIFAR-10 Batch 3:  Loss:     0.0000 Accuracy: 0.658200\n",
      "Epoch 60, CIFAR-10 Batch 4:  Loss:     0.0021 Accuracy: 0.652000\n",
      "Epoch 60, CIFAR-10 Batch 5:  Loss:     0.0005 Accuracy: 0.652000\n"
     ]
    }
   ],
   "source": [
    "\"\"\"\n",
    "DON'T MODIFY ANYTHING IN THIS CELL\n",
    "\"\"\"\n",
    "save_model_path = './image_classification'\n",
    "\n",
    "print('Training...')\n",
    "with tf.Session() as sess:\n",
    "    # Initializing the variables\n",
    "    sess.run(tf.global_variables_initializer())\n",
    "    \n",
    "    # Training cycle\n",
    "    for epoch in range(epochs):\n",
    "        # Loop over all batches\n",
    "        n_batches = 5\n",
    "        for batch_i in range(1, n_batches + 1):\n",
    "            for batch_features, batch_labels in helper.load_preprocess_training_batch(batch_i, batch_size):\n",
    "                train_neural_network(sess, optimizer, keep_probability, batch_features, batch_labels)\n",
    "            print('Epoch {:>2}, CIFAR-10 Batch {}:  '.format(epoch + 1, batch_i), end='')\n",
    "            print_stats(sess, batch_features, batch_labels, cost, accuracy)\n",
    "            \n",
    "    # Save Model\n",
    "    saver = tf.train.Saver()\n",
    "    save_path = saver.save(sess, save_model_path)"
   ]
  },
  {
   "cell_type": "markdown",
   "metadata": {
    "deletable": true,
    "editable": true
   },
   "source": [
    "# Checkpoint\n",
    "The model has been saved to disk.\n",
    "## Test Model\n",
    "Test your model against the test dataset.  This will be your final accuracy. You should have an accuracy greater than 50%. If you don't, keep tweaking the model architecture and parameters."
   ]
  },
  {
   "cell_type": "code",
   "execution_count": 34,
   "metadata": {
    "collapsed": false,
    "deletable": true,
    "editable": true
   },
   "outputs": [
    {
     "name": "stdout",
     "output_type": "stream",
     "text": [
      "Testing Accuracy: 0.6528876582278481\n",
      "\n"
     ]
    },
    {
     "data": {
      "image/png": "[encoded data removed]",
      "text/plain": [
       "<matplotlib.figure.Figure at 0x7f5dcc2b6f28>"
      ]
     },
     "metadata": {
      "image/png": {
       "height": 319,
       "width": 355
      }
     },
     "output_type": "display_data"
    }
   ],
   "source": [
    "\"\"\"\n",
    "DON'T MODIFY ANYTHING IN THIS CELL\n",
    "\"\"\"\n",
    "%matplotlib inline\n",
    "%config InlineBackend.figure_format = 'retina'\n",
    "\n",
    "import tensorflow as tf\n",
    "import pickle\n",
    "import helper\n",
    "import random\n",
    "\n",
    "# Set batch size if not already set\n",
    "try:\n",
    "    if batch_size:\n",
    "        pass\n",
    "except NameError:\n",
    "    batch_size = 64\n",
    "\n",
    "save_model_path = './image_classification'\n",
    "n_samples = 4\n",
    "top_n_predictions = 3\n",
    "\n",
    "def test_model():\n",
    "    \"\"\"\n",
    "    Test the saved model against the test dataset\n",
    "    \"\"\"\n",
    "\n",
    "    test_features, test_labels = pickle.load(open('preprocess_training.p', mode='rb'))\n",
    "    loaded_graph = tf.Graph()\n",
    "\n",
    "    with tf.Session(graph=loaded_graph) as sess:\n",
    "        # Load model\n",
    "        loader = tf.train.import_meta_graph(save_model_path + '.meta')\n",
    "        loader.restore(sess, save_model_path)\n",
    "\n",
    "        # Get Tensors from loaded model\n",
    "        loaded_x = loaded_graph.get_tensor_by_name('x:0')\n",
    "        loaded_y = loaded_graph.get_tensor_by_name('y:0')\n",
    "        loaded_keep_prob = loaded_graph.get_tensor_by_name('keep_prob:0')\n",
    "        loaded_logits = loaded_graph.get_tensor_by_name('logits:0')\n",
    "        loaded_acc = loaded_graph.get_tensor_by_name('accuracy:0')\n",
    "        \n",
    "        # Get accuracy in batches for memory limitations\n",
    "        test_batch_acc_total = 0\n",
    "        test_batch_count = 0\n",
    "        \n",
    "        for train_feature_batch, train_label_batch in helper.batch_features_labels(test_features, test_labels, batch_size):\n",
    "            test_batch_acc_total += sess.run(\n",
    "                loaded_acc,\n",
    "                feed_dict={loaded_x: train_feature_batch, loaded_y: train_label_batch, loaded_keep_prob: 1.0})\n",
    "            test_batch_count += 1\n",
    "\n",
    "        print('Testing Accuracy: {}\\n'.format(test_batch_acc_total/test_batch_count))\n",
    "\n",
    "        # Print Random Samples\n",
    "        random_test_features, random_test_labels = tuple(zip(*random.sample(list(zip(test_features, test_labels)), n_samples)))\n",
    "        random_test_predictions = sess.run(\n",
    "            tf.nn.top_k(tf.nn.softmax(loaded_logits), top_n_predictions),\n",
    "            feed_dict={loaded_x: random_test_features, loaded_y: random_test_labels, loaded_keep_prob: 1.0})\n",
    "        helper.display_image_predictions(random_test_features, random_test_labels, random_test_predictions)\n",
    "\n",
    "\n",
    "test_model()"
   ]
  },
  {
   "cell_type": "markdown",
   "metadata": {
    "deletable": true,
    "editable": true
   },
   "source": [
    "## Why 50-70% Accuracy?\n",
    "You might be wondering why you can't get an accuracy any higher. First things first, 50% isn't bad for a simple CNN.  Pure guessing would get you 10% accuracy. However, you might notice people are getting scores [well above 70%](http://rodrigob.github.io/are_we_there_yet/build/classification_datasets_results.html#43494641522d3130).  That's because we haven't taught you all there is to know about neural networks. We still need to cover a few more techniques.\n",
    "## Submitting This Project\n",
    "When submitting this project, make sure to run all the cells before saving the notebook.  Save the notebook file as \"dlnd_image_classification.ipynb\" and save it as a HTML file under \"File\" -> \"Download as\".  Include the \"helper.py\" and \"problem_unittests.py\" files in your submission."
   ]
  }
 ],
 "metadata": {
  "kernelspec": {
   "display_name": "Python 3",
   "language": "python",
   "name": "python3"
  },
  "language_info": {
   "codemirror_mode": {
    "name": "ipython",
    "version": 3
   },
   "file_extension": ".py",
   "mimetype": "text/x-python",
   "name": "python",
   "nbconvert_exporter": "python",
   "pygments_lexer": "ipython3",
   "version": "3.5.2"
  },
  "widgets": {
   "state": {},
   "version": "1.1.2"
  }
 },
 "nbformat": 4,
 "nbformat_minor": 0
}
